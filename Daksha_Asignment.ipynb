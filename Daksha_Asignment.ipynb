{
 "cells": [
  {
   "cell_type": "markdown",
   "metadata": {
    "colab_type": "text",
    "id": "view-in-github"
   },
   "source": [
    "<a href=\"https://colab.research.google.com/github/unt-iialab/INFO5731_Spring2020/blob/master/Assignments/INFO5731_Assignment_One.ipynb\" target=\"_parent\"><img src=\"https://colab.research.google.com/assets/colab-badge.svg\" alt=\"Open In Colab\"/></a>"
   ]
  },
  {
   "cell_type": "markdown",
   "metadata": {
    "colab_type": "text",
    "id": "Ryk8D1Q4Wsrp"
   },
   "source": [
    "# **INFO5731 Assignment One**"
   ]
  },
  {
   "cell_type": "markdown",
   "metadata": {
    "colab_type": "text",
    "id": "90_NR8c5XGWc"
   },
   "source": [
    "# Question 1\n",
    "\n",
    "(20 points). Write a Python program to generate 12 random numbers between 1 and 100. Sort the list of numbers in ascending order and print it out. Sort the list of numbers in descending order and print it out. Calculate the average for the group and print it out."
   ]
  },
  {
   "cell_type": "code",
   "execution_count": 8,
   "metadata": {
    "colab": {},
    "colab_type": "code",
    "id": "5QX6bJjGWXY9"
   },
   "outputs": [
    {
     "name": "stdout",
     "output_type": "stream",
     "text": [
      "The random numbers are  [52, 1, 83, 60, 78, 28, 51, 24, 94, 37, 70, 81]\n",
      "In ascending order  [1, 24, 28, 37, 51, 52, 60, 70, 78, 81, 83, 94]\n",
      "In descending order  [94, 83, 81, 78, 70, 60, 52, 51, 37, 28, 24, 1]\n",
      "The average is  54.916666666666664\n"
     ]
    }
   ],
   "source": [
    "# Program to generate 12 random numbers between 1 and 100.\n",
    "import random\n",
    "ran_list = random.sample(range(1, 100),12)\n",
    "print(\"The random numbers are \",ran_list)\n",
    "ran_list.sort()\n",
    "print(\"In ascending order \",ran_list)\n",
    "ran_list.sort(reverse=True)\n",
    "print(\"In descending order \",ran_list)\n",
    "a= (sum(ran_list))/len(ran_list)\n",
    "print(\"The average is \",str(a))\n"
   ]
  },
  {
   "cell_type": "markdown",
   "metadata": {
    "colab_type": "text",
    "id": "1F_PZdH9Sh49"
   },
   "source": [
    "# Question 2\n",
    "(25 points). Write a program that will do the following string formatting tasks:\n",
    "\n",
    "(1) Ask the user to enter two sentences.\n",
    "\n",
    "(2) Make each sentence into a list. Each element in the list should correspond to a word in the sentence. For example, if the sentence is \"Alas! Am I alive? This is my first python program\", the program should print out ['Alas, '!', 'Am', 'I', 'alive, '?', 'This', 'is', 'my', 'first', 'python', 'program'].\n",
    "\n",
    "(3) Compare the two sentences. Print out a list of words that occur in both sentences.\n",
    "\n",
    "(4) Remove any punctuation from the sentence and print it back out. It should remove at least the following characters, but it can remove more: period(“.”), comma (“,”), semicolon (“;”), and colon (“:”)\n",
    "\n",
    "(5) Count the number of vowels in the sentences. Print out each vowel and the number of times it appears in the sentences, such as: a:2, e:1, i:0, etc"
   ]
  },
  {
   "cell_type": "code",
   "execution_count": 6,
   "metadata": {
    "colab": {},
    "colab_type": "code",
    "id": "Y0oOSlsOS0cq"
   },
   "outputs": [
    {
     "name": "stdout",
     "output_type": "stream",
     "text": [
      "Enter 1st sentence: Alas! Am I alive?\n",
      "Alas! Am I alive?\n",
      "Enter 2nd sentence: This is my first python program\n",
      "This is my first python program\n",
      "splitting 1st sentence into the wordslist: ['Alas!', 'Am', 'I', 'alive?']\n",
      "splitting 2nd sentence into the wordslist: ['This', 'is', 'my', 'first', 'python', 'program']\n",
      "wordslist in both the sentences: set()\n",
      "First sentence without punctuation:Alas Am I alive\n",
      "Second sentence without punctuation: This is my first python program\n",
      "counting the vow in the 1st sentence:7\n",
      "Print vowels in the First sentence: {'A': 0, 'a': 4, 'E': 0, 'e': 1, 'I': 0, 'i': 2, 'O': 0, 'o': 0, 'U': 0, 'u': 0}\n",
      "counting the vow in the 2nd sentence: 6\n",
      "Print vowels in the second sentence: {'A': 0, 'a': 1, 'E': 0, 'e': 0, 'I': 0, 'i': 3, 'O': 0, 'o': 2, 'U': 0, 'u': 0}\n"
     ]
    }
   ],
   "source": [
    "#Question(1)\n",
    "\n",
    "sen1 = input(\"Enter 1st sentence: \")\n",
    "print(sen1)\n",
    "\n",
    "sen2 = input(\"Enter 2nd sentence: \")\n",
    "print(sen2)\n",
    "\n",
    "#question(2)\n",
    "\n",
    "wlist1 = sen1.split()\n",
    "print(\"splitting 1st sentence into the wordslist: \" + str(wlist1))\n",
    "\n",
    "wlist2 = sen2.split()\n",
    "print(\"splitting 2nd sentence into the wordslist: \" + str(wlist2))\n",
    "\n",
    "#quesiton(3)\n",
    "\n",
    "bothwordslist = set(wlist1)&set(wlist2)\n",
    "print(\"wordslist in both the sentences: \" + str(bothwordslist))\n",
    "\n",
    "#question(4)\n",
    "\n",
    "pun = '''!()-[]{};:'\"\\,<>./?@#$%^&*_~'''\n",
    "no_pun_in_sen1 = \"\"\n",
    "for c in sen1:\n",
    "    if c not in pun:\n",
    "        no_pun_in_sen1 = no_pun_in_sen1 + c\n",
    "print(\"First sentence without punctuation:\" + str(no_pun_in_sen1))\n",
    "\n",
    "no_pun_in_sen2 = \"\"\n",
    "for c in sen2:\n",
    "    if c not in pun:\n",
    "        no_pun_in_sen2 = no_pun_in_sen2 + c\n",
    "print(\"Second sentence without punctuation: \" + str(no_pun_in_sen2))\n",
    "\n",
    "#question(5)\n",
    "\n",
    "def chk_Vow(sen1,vowel1):\n",
    "    fin1 = [each for each in sen1 if each in vowel1]\n",
    "    print(\"counting the vow in the 1st sentence:\" + str(len(fin1)))\n",
    "    sen1 = sen1.casefold()\n",
    "    cou1 = {}.fromkeys(vowel1, 0)\n",
    "    for c in sen1:\n",
    "        if c in cou1:\n",
    "            cou1[c] += 1\n",
    "    return cou1\n",
    "vowel1 = \"AaEeIiOoUu\"\n",
    "print(\"Print vowels in the First sentence: \" + str(chk_Vow(sen1, vowel1)))\n",
    "\n",
    "def Chk_Vow(sen2,vowel2):\n",
    "    fin2 = [each for each in sen2 if each in vowel2]\n",
    "    print(\"counting the vow in the 2nd sentence: \" + str(len(fin2)))\n",
    "    sen2 = sen2.casefold()\n",
    "    cou2 = {}.fromkeys(vowel2, 0)\n",
    "    for c in sen2:\n",
    "        if c in cou2:\n",
    "            cou2[c] +=1\n",
    "    return cou2\n",
    "vowel2 = \"AaEeIiOoUu\"\n",
    "print(\"Print vowels in the second sentence: \" + str(Chk_Vow(sen2, vowel2)))"
   ]
  },
  {
   "cell_type": "markdown",
   "metadata": {
    "colab_type": "text",
    "id": "CmFoI4jDS9nx"
   },
   "source": [
    "# Question 3 \n",
    "\n",
    "(15 points). The formula that describes the volume V of a sphere with radius r is the following:\n",
    "\n",
    "$ V=\\frac{4}{3}\\ast\\ \\pi\\ast\\ r^3 $\n",
    "\n",
    "Write a program to calculate the value of V when r is in the range of 1–10. Output the result in the following format:\n",
    "\n",
    "\tr\tV\n",
    "\t1\t…\n",
    "\t2\t…\n",
    "\t3\t…\n"
   ]
  },
  {
   "cell_type": "code",
   "execution_count": 9,
   "metadata": {
    "colab": {},
    "colab_type": "code",
    "id": "pEyqeioAT95b"
   },
   "outputs": [
    {
     "name": "stdout",
     "output_type": "stream",
     "text": [
      "rad Vol\n",
      "1   4.1866666666666665\n",
      "2   33.49333333333333\n",
      "3   113.03999999999999\n",
      "4   267.94666666666666\n",
      "5   523.3333333333334\n",
      "6   904.3199999999999\n",
      "7   1436.0266666666666\n",
      "8   2143.5733333333333\n",
      "9   3052.08\n",
      "10   4186.666666666667\n"
     ]
    }
   ],
   "source": [
    "# Program to calculate the value of V when r is in the range of 1 to 10.\n",
    "print(\"rad Vol\")\n",
    "for r in range(1,11):\n",
    "    print(r,end=\"   \")\n",
    "    vol =(4/3)*(3.14)*(pow(r,3))\n",
    "    print(vol)\n",
    "\n"
   ]
  },
  {
   "cell_type": "code",
   "execution_count": null,
   "metadata": {
    "colab": {},
    "colab_type": "code",
    "id": "pMCr3l8tnu0j"
   },
   "outputs": [],
   "source": []
  },
  {
   "cell_type": "markdown",
   "metadata": {
    "colab_type": "text",
    "id": "z3tBE7E-Xn5X"
   },
   "source": [
    "# Question 4\n",
    "\n",
    "(40 points). In the field of Data Science, data is often formatted as a comma-delimited (CSV) file, where each line in a file corresponds to a field's value. Refer to Chapter 9 (p. 106) for more information on comma-delimited files. To answer this question, you will need to download the file [Assignment1_denton_housing.csv](https://github.com/unt-iialab/info5731-fall2021/blob/main/assignments/Assignment1_denton_housing.csv) included with this assignment. The file [Assignment1_denton_housing.csv](https://github.com/unt-iialab/info5731-fall2021/blob/main/assignments/Assignment1_denton_housing.csv) contains statistics about housing in the city of Denton from 2008 to 2014. Write a program to implement the following questions.\n",
    "\n",
    "(1) (10 pts) Calculate the difference in the number of Occupied Housing Units from year to year and print it. The difference must be calculated for the consecutive years such as 2008-2009, 2009-2010 etc. Finally, print the values in the ascending order.\n",
    "\n",
    "(2) (10 pts) For all the years, calculate the percentage of housing units which are vacant an occupied. Print the results in the following format:\n",
    "\n",
    "Year Vacant Housing Units Occupied Housing Units\n",
    "\n",
    "    2008  30%   70%                          \n",
    "\t2009 ----- -----\n",
    "\t2010 ----- -----\n",
    "    2011 ----- -----\n",
    "\t2012 ----- -----\n",
    "    2013 ----- -----\n",
    "\t2014 ----- -----\n",
    "  \n",
    "  \n",
    "\n",
    "(3) (10 pts) Calculate and print the valued and years in which the highest number of housing units were vacant and occupied. Print the results in the following format:  \n",
    "\n",
    "                              Year\tValue\n",
    "\tVacant Housing Units\t  -----   -----\n",
    "\tOccupied Housing Units\t-----   -----\n",
    "\n",
    "(4) (10 pts) Calculate the harmonic mean of the total housing units and print it out. You can find the information about harmonic mean here: https://ncalculators.com/statistics/harmonic-mean-calculator.htm"
   ]
  },
  {
   "cell_type": "code",
   "execution_count": 5,
   "metadata": {
    "colab": {},
    "colab_type": "code",
    "id": "lqGYuHBhcsRH"
   },
   "outputs": [
    {
     "name": "stdout",
     "output_type": "stream",
     "text": [
      "Difference in number of Occ Housing Units from year to year:\n",
      "-795.0\n",
      "-303.0\n",
      "1404.0\n",
      "1565.0\n",
      "2622.0\n",
      "5091.0\n",
      "   NaN\n",
      " \n",
      " year  Vct Housing Units  Occ Housing Units\n",
      " 2008          10.882653          10.882653\n",
      " 2009           9.071116           9.071116\n",
      " 2010           8.142556           8.142556\n",
      " 2011           9.379522           9.379522\n",
      " 2012           6.677600           6.677600\n",
      " 2013           8.801788           8.801788\n",
      " 2014           5.730111           5.730111\n",
      " \n",
      "           title_field  year  value\n",
      "  Vacant Housing Units  2008   4483\n",
      "Occupied Housing Units  2014  46295\n",
      " \n",
      "Hormonic Mean :  44398.28543969185\n"
     ]
    }
   ],
   "source": [
    "#quesiton(1)\n",
    "\n",
    "import pandas as p\n",
    "file_url = \"https://raw.githubusercontent.com/unt-iialab/info5731-fall2021/main/assignments/Assignment1_denton_housing.csv\"\n",
    "read_file = p.read_csv(file_url)\n",
    "read_file = read_file[read_file['title_field']=='Occupied Housing Units']\n",
    "sort_the_years = read_file.sort_values('year')\n",
    "years_after = sort_the_years['value'].diff().sort_values()\n",
    "print('Difference in number of Occ Housing Units from year to year:')\n",
    "print(years_after.to_string(index=False))\n",
    "print(\" \")\n",
    "\n",
    "#question(2)\n",
    "\n",
    "import pandas as p\n",
    "count1 = 0\n",
    "count2 = 0\n",
    "values_of_vct = []\n",
    "values_of_occ = []\n",
    "file_url = \"https://raw.githubusercontent.com/unt-iialab/info5731-fall2021/main/assignments/Assignment1_denton_housing.csv\"\n",
    "read_file = p.read_csv(file_url)\n",
    "read_file_1 = read_file[(read_file['title_field'] == 'Vacant Housing Units')].sort_values('year')['value'].tolist()\n",
    "read_file_2 = read_file[(read_file['title_field'] == 'Occupied Housing Units')].sort_values('year')['value'].tolist()\n",
    "read_file_3 = read_file[(read_file['title_field'] == 'Total Housing Units')].sort_values('year')\n",
    "for v in read_file_3['value']:\n",
    "    per = (read_file_1[count1]/v)*100\n",
    "    count1+=1\n",
    "    values_of_vct.append(per)\n",
    "for o in read_file_3['value']:\n",
    "    per = (read_file_1[count2]/o)*100\n",
    "    count2+=1\n",
    "    values_of_occ.append(per)   \n",
    "vac = p.DataFrame(values_of_vct,columns=['Vct Housing Units'])\n",
    "occ = p.DataFrame(values_of_occ,columns=['Occ Housing Units'])\n",
    "tot = p.concat([vac,occ],axis=1)\n",
    "tot = p.concat([read_file_3['year'].reset_index(),total],axis=1)\n",
    "tot = total[['year','Vct Housing Units','Occ Housing Units']]    \n",
    "print(total.to_string(index=False))\n",
    "print(\" \")\n",
    "\n",
    "#question(3)\n",
    "\n",
    "import pandas as pd\n",
    "file_url = \"https://raw.githubusercontent.com/unt-iialab/info5731-fall2021/main/assignments/Assignment1_denton_housing.csv\"\n",
    "d_f=p.read_csv(file_url)\n",
    "d_f[df['title_field'] == 'Vacant Housing Units']\n",
    "\n",
    "Max_value_vct1=d_f.loc[d_f['title_field'] == 'Vacant Housing Units']\n",
    "M1=Max_value_vct1[Max_value_vct1.value == Max_value_vct1.value.max()]\n",
    "\n",
    "Max_value_occ1=d_f.loc[d_f['title_field'] == 'Occupied Housing Units']\n",
    "M2=Max_value_occ1[Max_value_occ1.value == Max_value_occ1.value.max()]\n",
    "\n",
    "df_1=pd.concat([M1,M2])\n",
    "df_1_final = df_1[['title_field','year','value']]\n",
    "print(df_1_final.to_string(index=False))\n",
    "print(\" \")\n",
    "\n",
    "#question(4)\n",
    "\n",
    "import pandas as p\n",
    "import numpy as n\n",
    "from scipy import stats\n",
    "file_url = \"https://raw.githubusercontent.com/unt-iialab/info5731-fall2021/main/assignments/Assignment1_denton_housing.csv\"\n",
    "read_file = p.read_csv(file_url)\n",
    "read_file=read_file[read_file['title_field']=='Total Housing Units']\n",
    "har_mean=stats.hmean(read_file['value'])\n",
    "print(f\"Hormonic Mean :  {har_mean}\")\n",
    "\n"
   ]
  },
  {
   "cell_type": "code",
   "execution_count": null,
   "metadata": {},
   "outputs": [],
   "source": []
  }
 ],
 "metadata": {
  "colab": {
   "authorship_tag": "ABX9TyOAjsNCkNulTpzgRQbHdy3f",
   "collapsed_sections": [],
   "include_colab_link": true,
   "name": "INFO5731_Assignment_One.ipynb",
   "provenance": []
  },
  "kernelspec": {
   "display_name": "Python 3 (ipykernel)",
   "language": "python",
   "name": "python3"
  },
  "language_info": {
   "codemirror_mode": {
    "name": "ipython",
    "version": 3
   },
   "file_extension": ".py",
   "mimetype": "text/x-python",
   "name": "python",
   "nbconvert_exporter": "python",
   "pygments_lexer": "ipython3",
   "version": "3.9.12"
  }
 },
 "nbformat": 4,
 "nbformat_minor": 1
}
