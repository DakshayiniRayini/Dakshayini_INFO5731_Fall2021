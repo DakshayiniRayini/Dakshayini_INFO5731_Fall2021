{
  "cells": [
    {
      "cell_type": "markdown",
      "metadata": {
        "id": "h4LKTf7B9uEE"
      },
      "source": [
        "# **The fifth in-class-exercise (40 points in total, 11/17/2022)**"
      ]
    },
    {
      "cell_type": "markdown",
      "metadata": {
        "id": "B-W-T7Du9uEJ"
      },
      "source": [
        "(20 points) The purpose of the question is to practice different machine learning algorithms for text classification as well as the performance evaluation. In addition, you are requried to conduct *10 fold cross validation (https://scikit-learn.org/stable/modules/cross_validation.html)* in the training. \n",
        "\n",
        "The dataset can be download from canvas. The dataset contains two files train data and test data for sentiment analysis in IMDB review, it has two categories: 1 represents positive and 0 represents negative. You need to split the training data into training and validate data (80% for training and 20% for validation, https://towardsdatascience.com/train-test-split-and-cross-validation-in-python-80b61beca4b6) and perform 10 fold cross validation while training the classifier. The final trained model was final evaluated on the test data. \n",
        "\n",
        "Algorithms:\n",
        "\n",
        "(1) MultinominalNB\n",
        "\n",
        "(2) SVM \n",
        "\n",
        "(3) KNN \n",
        "\n",
        "(4) Decision tree\n",
        "\n",
        "(5) Random Forest\n",
        "\n",
        "(6) XGBoost\n",
        "\n",
        "Evaluation measurement:\n",
        "\n",
        "(1) Accuracy\n",
        "\n",
        "(2) Recall\n",
        "\n",
        "(3) Precison \n",
        "\n",
        "(4) F-1 score"
      ]
    },
    {
      "cell_type": "code",
      "execution_count": 2,
      "metadata": {
        "id": "LEbZD_M79uEL"
      },
      "outputs": [],
      "source": [
        "# Write your code here\n",
        "\n",
        "import pandas as pd\n",
        "from xgboost import XGBClassifier\n",
        "from sklearn.svm import LinearSVC\n",
        "from sklearn.naive_bayes import MultinomialNB\n",
        "from sklearn.tree import DecisionTreeClassifier\n",
        "from sklearn.neighbors import KNeighborsClassifier\n",
        "from sklearn.ensemble import RandomForestClassifier\n",
        "from sklearn.metrics import accuracy_score, recall_score, precision_score, f1_score\n",
        "from sklearn.model_selection import train_test_split, cross_validate, StratifiedKFold\n",
        "\n",
        "training_df = pd.read_csv(r'/content/stsa-train.txt',sep = 'delimiter=',header= None,names=['abstract'])\n",
        "testing_df = pd.read_csv(r'/content/stsa-test.txt',sep = 'delimiter=',header= None,names=['abstract'])\n",
        "\n",
        "training_df[['Sentiment','abstract']] = training_df[\"abstract\"].str.split(\" \", 1, expand=True)\n",
        "testing_df[['Sentiment','astract']] = testing_df[\"abstract\"].str.split(\" \", 1, expand=True)\n",
        "\n"
      ]
    },
    {
      "cell_type": "code",
      "source": [
        "print(training_df.head())"
      ],
      "metadata": {
        "colab": {
          "base_uri": "https://localhost:8080/"
        },
        "id": "UNfq8jrd_y_L",
        "outputId": "acfbf735-c015-4a0a-baa4-03175d145af6"
      },
      "execution_count": 3,
      "outputs": [
        {
          "output_type": "stream",
          "name": "stdout",
          "text": [
            "                                            abstract Sentiment\n",
            "0  a stirring , funny and finally transporting re...         1\n",
            "1  apparently reassembled from the cutting-room f...         0\n",
            "2  they presume their audience wo n't sit still f...         0\n",
            "3  this is a visually stunning rumination on love...         1\n",
            "4  jonathan parker 's bartleby should have been t...         1\n"
          ]
        }
      ]
    },
    {
      "cell_type": "code",
      "source": [
        "print(testing_df.head())"
      ],
      "metadata": {
        "colab": {
          "base_uri": "https://localhost:8080/"
        },
        "id": "Js36pXQd_160",
        "outputId": "c10f717c-97f5-4e8e-d763-ece71f95015f"
      },
      "execution_count": 4,
      "outputs": [
        {
          "output_type": "stream",
          "name": "stdout",
          "text": [
            "                                            abstract Sentiment  \\\n",
            "0   0 no movement , no yuks , not much of anything .         0   \n",
            "1  0 a gob of drivel so sickly sweet , even the e...         0   \n",
            "2  0 gangs of new york is an unapologetic mess , ...         0   \n",
            "3  0 we never really feel involved with the story...         0   \n",
            "4          1 this is one of polanski 's best films .         1   \n",
            "\n",
            "                                             astract  \n",
            "0     no movement , no yuks , not much of anything .  \n",
            "1  a gob of drivel so sickly sweet , even the eag...  \n",
            "2  gangs of new york is an unapologetic mess , wh...  \n",
            "3  we never really feel involved with the story ,...  \n",
            "4            this is one of polanski 's best films .  \n"
          ]
        }
      ]
    },
    {
      "cell_type": "code",
      "source": [
        "import nltk\n",
        "import re\n",
        "import string\n",
        "nltk.download('stopwords')\n",
        "nltk.download('wordnet')\n",
        "nltk.download('omw-1.4')\n",
        "stp_wrds = nltk.corpus.stopwords.words('english')\n",
        "from nltk.stem import WordNetLemmatizer\n",
        "word_net_lemmatizer= WordNetLemmatizer()\n",
        "\n",
        "def cleaneddata(train_data):\n",
        "  train_data =\"\".join([data.lower() for data in train_data if data not in string.punctuation])\n",
        "  train_data = re.sub(\"^\\d+\\s|\\s\\d+\\s|\\s\\d+$\", \" \", train_data)\n",
        "  para = re.split('\\W+',train_data)\n",
        "  train_data = [word_net_lemmatizer.lemmatize(data) for data in para if data not in stp_wrds]\n",
        "  return train_data"
      ],
      "metadata": {
        "colab": {
          "base_uri": "https://localhost:8080/"
        },
        "id": "JRhPdtj9ADIX",
        "outputId": "2f613c32-ed33-4918-990a-ad7fdd84b6d7"
      },
      "execution_count": 5,
      "outputs": [
        {
          "output_type": "stream",
          "name": "stderr",
          "text": [
            "[nltk_data] Downloading package stopwords to /root/nltk_data...\n",
            "[nltk_data]   Unzipping corpora/stopwords.zip.\n",
            "[nltk_data] Downloading package wordnet to /root/nltk_data...\n",
            "[nltk_data] Downloading package omw-1.4 to /root/nltk_data...\n"
          ]
        }
      ]
    },
    {
      "cell_type": "code",
      "source": [
        "from sklearn.feature_extraction.text import TfidfVectorizer\n",
        "\n",
        "tf_idf_vectorizer = TfidfVectorizer(analyzer = cleaneddata)\n",
        "tf_idf_vectorizer1 = tf_idf_vectorizer.fit_transform(training_df['abstract'])\n",
        "tf_idf_vectorizer1.shape"
      ],
      "metadata": {
        "colab": {
          "base_uri": "https://localhost:8080/"
        },
        "id": "UuukN-77AJ9C",
        "outputId": "cfa30686-3f8d-424b-c041-4451a2007220"
      },
      "execution_count": 6,
      "outputs": [
        {
          "output_type": "execute_result",
          "data": {
            "text/plain": [
              "(6920, 13343)"
            ]
          },
          "metadata": {},
          "execution_count": 6
        }
      ]
    },
    {
      "cell_type": "code",
      "source": [
        "tf_idf_df = pd.DataFrame(tf_idf_vectorizer1.toarray())\n",
        "tf_idf_df.columns=tf_idf_vectorizer.get_feature_names()\n",
        "tf_idf_df.head()"
      ],
      "metadata": {
        "colab": {
          "base_uri": "https://localhost:8080/",
          "height": 334
        },
        "id": "AdDgZP_gAoiw",
        "outputId": "f82169c8-4554-4ea7-cc6a-a322c265a70e"
      },
      "execution_count": 7,
      "outputs": [
        {
          "output_type": "stream",
          "name": "stderr",
          "text": [
            "/usr/local/lib/python3.7/dist-packages/sklearn/utils/deprecation.py:87: FutureWarning: Function get_feature_names is deprecated; get_feature_names is deprecated in 1.0 and will be removed in 1.2. Please use get_feature_names_out instead.\n",
            "  warnings.warn(msg, category=FutureWarning)\n"
          ]
        },
        {
          "output_type": "execute_result",
          "data": {
            "text/plain": [
              "             100minute  103minute  10course  10th  10thgrade  10year  \\\n",
              "0  0.000000        0.0        0.0       0.0   0.0        0.0     0.0   \n",
              "1  0.048154        0.0        0.0       0.0   0.0        0.0     0.0   \n",
              "2  0.029784        0.0        0.0       0.0   0.0        0.0     0.0   \n",
              "3  0.049596        0.0        0.0       0.0   0.0        0.0     0.0   \n",
              "4  0.048782        0.0        0.0       0.0   0.0        0.0     0.0   \n",
              "\n",
              "   10yearold  112minute   12  ...  ziyi  zoe  zombie  zombieland  zone  \\\n",
              "0        0.0        0.0  0.0  ...   0.0  0.0     0.0         0.0   0.0   \n",
              "1        0.0        0.0  0.0  ...   0.0  0.0     0.0         0.0   0.0   \n",
              "2        0.0        0.0  0.0  ...   0.0  0.0     0.0         0.0   0.0   \n",
              "3        0.0        0.0  0.0  ...   0.0  0.0     0.0         0.0   0.0   \n",
              "4        0.0        0.0  0.0  ...   0.0  0.0     0.0         0.0   0.0   \n",
              "\n",
              "   zoning  zoom  zwick  zzzzzzzzz  élan  \n",
              "0     0.0   0.0    0.0        0.0   0.0  \n",
              "1     0.0   0.0    0.0        0.0   0.0  \n",
              "2     0.0   0.0    0.0        0.0   0.0  \n",
              "3     0.0   0.0    0.0        0.0   0.0  \n",
              "4     0.0   0.0    0.0        0.0   0.0  \n",
              "\n",
              "[5 rows x 13343 columns]"
            ],
            "text/html": [
              "\n",
              "  <div id=\"df-ddb21db8-6734-4c8f-9846-4a23b7222a9e\">\n",
              "    <div class=\"colab-df-container\">\n",
              "      <div>\n",
              "<style scoped>\n",
              "    .dataframe tbody tr th:only-of-type {\n",
              "        vertical-align: middle;\n",
              "    }\n",
              "\n",
              "    .dataframe tbody tr th {\n",
              "        vertical-align: top;\n",
              "    }\n",
              "\n",
              "    .dataframe thead th {\n",
              "        text-align: right;\n",
              "    }\n",
              "</style>\n",
              "<table border=\"1\" class=\"dataframe\">\n",
              "  <thead>\n",
              "    <tr style=\"text-align: right;\">\n",
              "      <th></th>\n",
              "      <th></th>\n",
              "      <th>100minute</th>\n",
              "      <th>103minute</th>\n",
              "      <th>10course</th>\n",
              "      <th>10th</th>\n",
              "      <th>10thgrade</th>\n",
              "      <th>10year</th>\n",
              "      <th>10yearold</th>\n",
              "      <th>112minute</th>\n",
              "      <th>12</th>\n",
              "      <th>...</th>\n",
              "      <th>ziyi</th>\n",
              "      <th>zoe</th>\n",
              "      <th>zombie</th>\n",
              "      <th>zombieland</th>\n",
              "      <th>zone</th>\n",
              "      <th>zoning</th>\n",
              "      <th>zoom</th>\n",
              "      <th>zwick</th>\n",
              "      <th>zzzzzzzzz</th>\n",
              "      <th>élan</th>\n",
              "    </tr>\n",
              "  </thead>\n",
              "  <tbody>\n",
              "    <tr>\n",
              "      <th>0</th>\n",
              "      <td>0.000000</td>\n",
              "      <td>0.0</td>\n",
              "      <td>0.0</td>\n",
              "      <td>0.0</td>\n",
              "      <td>0.0</td>\n",
              "      <td>0.0</td>\n",
              "      <td>0.0</td>\n",
              "      <td>0.0</td>\n",
              "      <td>0.0</td>\n",
              "      <td>0.0</td>\n",
              "      <td>...</td>\n",
              "      <td>0.0</td>\n",
              "      <td>0.0</td>\n",
              "      <td>0.0</td>\n",
              "      <td>0.0</td>\n",
              "      <td>0.0</td>\n",
              "      <td>0.0</td>\n",
              "      <td>0.0</td>\n",
              "      <td>0.0</td>\n",
              "      <td>0.0</td>\n",
              "      <td>0.0</td>\n",
              "    </tr>\n",
              "    <tr>\n",
              "      <th>1</th>\n",
              "      <td>0.048154</td>\n",
              "      <td>0.0</td>\n",
              "      <td>0.0</td>\n",
              "      <td>0.0</td>\n",
              "      <td>0.0</td>\n",
              "      <td>0.0</td>\n",
              "      <td>0.0</td>\n",
              "      <td>0.0</td>\n",
              "      <td>0.0</td>\n",
              "      <td>0.0</td>\n",
              "      <td>...</td>\n",
              "      <td>0.0</td>\n",
              "      <td>0.0</td>\n",
              "      <td>0.0</td>\n",
              "      <td>0.0</td>\n",
              "      <td>0.0</td>\n",
              "      <td>0.0</td>\n",
              "      <td>0.0</td>\n",
              "      <td>0.0</td>\n",
              "      <td>0.0</td>\n",
              "      <td>0.0</td>\n",
              "    </tr>\n",
              "    <tr>\n",
              "      <th>2</th>\n",
              "      <td>0.029784</td>\n",
              "      <td>0.0</td>\n",
              "      <td>0.0</td>\n",
              "      <td>0.0</td>\n",
              "      <td>0.0</td>\n",
              "      <td>0.0</td>\n",
              "      <td>0.0</td>\n",
              "      <td>0.0</td>\n",
              "      <td>0.0</td>\n",
              "      <td>0.0</td>\n",
              "      <td>...</td>\n",
              "      <td>0.0</td>\n",
              "      <td>0.0</td>\n",
              "      <td>0.0</td>\n",
              "      <td>0.0</td>\n",
              "      <td>0.0</td>\n",
              "      <td>0.0</td>\n",
              "      <td>0.0</td>\n",
              "      <td>0.0</td>\n",
              "      <td>0.0</td>\n",
              "      <td>0.0</td>\n",
              "    </tr>\n",
              "    <tr>\n",
              "      <th>3</th>\n",
              "      <td>0.049596</td>\n",
              "      <td>0.0</td>\n",
              "      <td>0.0</td>\n",
              "      <td>0.0</td>\n",
              "      <td>0.0</td>\n",
              "      <td>0.0</td>\n",
              "      <td>0.0</td>\n",
              "      <td>0.0</td>\n",
              "      <td>0.0</td>\n",
              "      <td>0.0</td>\n",
              "      <td>...</td>\n",
              "      <td>0.0</td>\n",
              "      <td>0.0</td>\n",
              "      <td>0.0</td>\n",
              "      <td>0.0</td>\n",
              "      <td>0.0</td>\n",
              "      <td>0.0</td>\n",
              "      <td>0.0</td>\n",
              "      <td>0.0</td>\n",
              "      <td>0.0</td>\n",
              "      <td>0.0</td>\n",
              "    </tr>\n",
              "    <tr>\n",
              "      <th>4</th>\n",
              "      <td>0.048782</td>\n",
              "      <td>0.0</td>\n",
              "      <td>0.0</td>\n",
              "      <td>0.0</td>\n",
              "      <td>0.0</td>\n",
              "      <td>0.0</td>\n",
              "      <td>0.0</td>\n",
              "      <td>0.0</td>\n",
              "      <td>0.0</td>\n",
              "      <td>0.0</td>\n",
              "      <td>...</td>\n",
              "      <td>0.0</td>\n",
              "      <td>0.0</td>\n",
              "      <td>0.0</td>\n",
              "      <td>0.0</td>\n",
              "      <td>0.0</td>\n",
              "      <td>0.0</td>\n",
              "      <td>0.0</td>\n",
              "      <td>0.0</td>\n",
              "      <td>0.0</td>\n",
              "      <td>0.0</td>\n",
              "    </tr>\n",
              "  </tbody>\n",
              "</table>\n",
              "<p>5 rows × 13343 columns</p>\n",
              "</div>\n",
              "      <button class=\"colab-df-convert\" onclick=\"convertToInteractive('df-ddb21db8-6734-4c8f-9846-4a23b7222a9e')\"\n",
              "              title=\"Convert this dataframe to an interactive table.\"\n",
              "              style=\"display:none;\">\n",
              "        \n",
              "  <svg xmlns=\"http://www.w3.org/2000/svg\" height=\"24px\"viewBox=\"0 0 24 24\"\n",
              "       width=\"24px\">\n",
              "    <path d=\"M0 0h24v24H0V0z\" fill=\"none\"/>\n",
              "    <path d=\"M18.56 5.44l.94 2.06.94-2.06 2.06-.94-2.06-.94-.94-2.06-.94 2.06-2.06.94zm-11 1L8.5 8.5l.94-2.06 2.06-.94-2.06-.94L8.5 2.5l-.94 2.06-2.06.94zm10 10l.94 2.06.94-2.06 2.06-.94-2.06-.94-.94-2.06-.94 2.06-2.06.94z\"/><path d=\"M17.41 7.96l-1.37-1.37c-.4-.4-.92-.59-1.43-.59-.52 0-1.04.2-1.43.59L10.3 9.45l-7.72 7.72c-.78.78-.78 2.05 0 2.83L4 21.41c.39.39.9.59 1.41.59.51 0 1.02-.2 1.41-.59l7.78-7.78 2.81-2.81c.8-.78.8-2.07 0-2.86zM5.41 20L4 18.59l7.72-7.72 1.47 1.35L5.41 20z\"/>\n",
              "  </svg>\n",
              "      </button>\n",
              "      \n",
              "  <style>\n",
              "    .colab-df-container {\n",
              "      display:flex;\n",
              "      flex-wrap:wrap;\n",
              "      gap: 12px;\n",
              "    }\n",
              "\n",
              "    .colab-df-convert {\n",
              "      background-color: #E8F0FE;\n",
              "      border: none;\n",
              "      border-radius: 50%;\n",
              "      cursor: pointer;\n",
              "      display: none;\n",
              "      fill: #1967D2;\n",
              "      height: 32px;\n",
              "      padding: 0 0 0 0;\n",
              "      width: 32px;\n",
              "    }\n",
              "\n",
              "    .colab-df-convert:hover {\n",
              "      background-color: #E2EBFA;\n",
              "      box-shadow: 0px 1px 2px rgba(60, 64, 67, 0.3), 0px 1px 3px 1px rgba(60, 64, 67, 0.15);\n",
              "      fill: #174EA6;\n",
              "    }\n",
              "\n",
              "    [theme=dark] .colab-df-convert {\n",
              "      background-color: #3B4455;\n",
              "      fill: #D2E3FC;\n",
              "    }\n",
              "\n",
              "    [theme=dark] .colab-df-convert:hover {\n",
              "      background-color: #434B5C;\n",
              "      box-shadow: 0px 1px 3px 1px rgba(0, 0, 0, 0.15);\n",
              "      filter: drop-shadow(0px 1px 2px rgba(0, 0, 0, 0.3));\n",
              "      fill: #FFFFFF;\n",
              "    }\n",
              "  </style>\n",
              "\n",
              "      <script>\n",
              "        const buttonEl =\n",
              "          document.querySelector('#df-ddb21db8-6734-4c8f-9846-4a23b7222a9e button.colab-df-convert');\n",
              "        buttonEl.style.display =\n",
              "          google.colab.kernel.accessAllowed ? 'block' : 'none';\n",
              "\n",
              "        async function convertToInteractive(key) {\n",
              "          const element = document.querySelector('#df-ddb21db8-6734-4c8f-9846-4a23b7222a9e');\n",
              "          const dataTable =\n",
              "            await google.colab.kernel.invokeFunction('convertToInteractive',\n",
              "                                                     [key], {});\n",
              "          if (!dataTable) return;\n",
              "\n",
              "          const docLinkHtml = 'Like what you see? Visit the ' +\n",
              "            '<a target=\"_blank\" href=https://colab.research.google.com/notebooks/data_table.ipynb>data table notebook</a>'\n",
              "            + ' to learn more about interactive tables.';\n",
              "          element.innerHTML = '';\n",
              "          dataTable['output_type'] = 'display_data';\n",
              "          await google.colab.output.renderOutput(dataTable, element);\n",
              "          const docLink = document.createElement('div');\n",
              "          docLink.innerHTML = docLinkHtml;\n",
              "          element.appendChild(docLink);\n",
              "        }\n",
              "      </script>\n",
              "    </div>\n",
              "  </div>\n",
              "  "
            ]
          },
          "metadata": {},
          "execution_count": 7
        }
      ]
    },
    {
      "cell_type": "code",
      "source": [
        "Testing_tf_idf = tf_idf_vectorizer.transform(testing_df['abstract'])\n",
        "print(Testing_tf_idf.shape)"
      ],
      "metadata": {
        "colab": {
          "base_uri": "https://localhost:8080/"
        },
        "id": "MgnZ5txKAs1z",
        "outputId": "02085561-ba7c-40a7-b000-df13bbdcca6b"
      },
      "execution_count": 8,
      "outputs": [
        {
          "output_type": "stream",
          "name": "stdout",
          "text": [
            "(1821, 13343)\n"
          ]
        }
      ]
    },
    {
      "cell_type": "code",
      "source": [
        "MulNB = MultinomialNB()\n",
        "LSVC = LinearSVC()\n",
        "KNNC = KNeighborsClassifier(n_neighbors=5,n_jobs=-1)\n",
        "DTC = DecisionTreeClassifier()\n",
        "RFC = RandomForestClassifier()\n",
        "XGBC = XGBClassifier()"
      ],
      "metadata": {
        "id": "07vdFyOhBSbv"
      },
      "execution_count": 12,
      "outputs": []
    },
    {
      "cell_type": "code",
      "source": [
        "training_data1, testing_data1, training_data2, testing_data2 = train_test_split(tf_idf_vectorizer1, training_df['Sentiment'].values,\n",
        "                                                test_size=0.2, random_state=42)"
      ],
      "metadata": {
        "id": "cBDdEUjuBdqj"
      },
      "execution_count": 25,
      "outputs": []
    },
    {
      "cell_type": "code",
      "source": [
        "DT_fit = DTC.fit(training_data1,training_data2)\n",
        "final_DT = DT_fit.predict(testing_data1)\n",
        "print('Accuracy_result %s' % accuracy_score(final_DT,testing_data2))\n",
        "print(classification_report(testing_data2,final_DT))"
      ],
      "metadata": {
        "colab": {
          "base_uri": "https://localhost:8080/"
        },
        "id": "NVSBRFYnAvxv",
        "outputId": "ba91a7ef-8b51-42d4-8af7-124613c16736"
      },
      "execution_count": 27,
      "outputs": [
        {
          "output_type": "stream",
          "name": "stdout",
          "text": [
            "Accuracy_result 0.6524566473988439\n",
            "              precision    recall  f1-score   support\n",
            "\n",
            "           0       0.65      0.61      0.63       671\n",
            "           1       0.65      0.69      0.67       713\n",
            "\n",
            "    accuracy                           0.65      1384\n",
            "   macro avg       0.65      0.65      0.65      1384\n",
            "weighted avg       0.65      0.65      0.65      1384\n",
            "\n"
          ]
        }
      ]
    },
    {
      "cell_type": "code",
      "source": [
        "MulNB_fit = MulNB.fit(training_data1,training_data2)"
      ],
      "metadata": {
        "id": "M1wFOATbBi-Q"
      },
      "execution_count": 28,
      "outputs": []
    },
    {
      "cell_type": "code",
      "source": [
        "from sklearn.metrics import accuracy_score\n",
        "from sklearn.metrics import classification_report\n",
        "final_MulNB = MulNB_fit.predict(testing_data1)\n",
        "print('Accuracy_result %s' % accuracy_score(final_MulNB,testing_data2))\n",
        "print(classification_report(testing_data2,final_MulNB))"
      ],
      "metadata": {
        "colab": {
          "base_uri": "https://localhost:8080/"
        },
        "id": "pE4zFe35BmbX",
        "outputId": "902d010b-11a0-4620-9548-a180deed7277"
      },
      "execution_count": 29,
      "outputs": [
        {
          "output_type": "stream",
          "name": "stdout",
          "text": [
            "Accuracy_result 0.7955202312138728\n",
            "              precision    recall  f1-score   support\n",
            "\n",
            "           0       0.85      0.70      0.77       671\n",
            "           1       0.76      0.88      0.82       713\n",
            "\n",
            "    accuracy                           0.80      1384\n",
            "   macro avg       0.80      0.79      0.79      1384\n",
            "weighted avg       0.80      0.80      0.79      1384\n",
            "\n"
          ]
        }
      ]
    },
    {
      "cell_type": "code",
      "source": [
        "from sklearn.model_selection import cross_val_score\n",
        "output = cross_val_score(MulNB, testing_data1, testing_data2, cv=10)\n",
        "print(\"MNB_given\",output.mean())"
      ],
      "metadata": {
        "colab": {
          "base_uri": "https://localhost:8080/"
        },
        "id": "uX_mskigBrmM",
        "outputId": "ab1c6d53-8add-4bdd-c6e8-a897bb91f70a"
      },
      "execution_count": 30,
      "outputs": [
        {
          "output_type": "stream",
          "name": "stdout",
          "text": [
            "MNB_given 0.7247054530288813\n"
          ]
        }
      ]
    },
    {
      "cell_type": "code",
      "source": [
        "LSVC_fit = LSVC.fit(training_data1,training_data2)\n",
        "final_LSVC = LSVC_fit.predict(testing_data1)\n",
        "print('Accuracy_result %s' % accuracy_score(final_LSVC,testing_data2))\n",
        "print(classification_report(testing_data2,final_LSVC))"
      ],
      "metadata": {
        "colab": {
          "base_uri": "https://localhost:8080/"
        },
        "id": "zT2VkVLnCDN_",
        "outputId": "14b10ba1-7671-4ecb-a553-44a026481d51"
      },
      "execution_count": 31,
      "outputs": [
        {
          "output_type": "stream",
          "name": "stdout",
          "text": [
            "Accuracy_result 0.791907514450867\n",
            "              precision    recall  f1-score   support\n",
            "\n",
            "           0       0.81      0.75      0.78       671\n",
            "           1       0.78      0.83      0.80       713\n",
            "\n",
            "    accuracy                           0.79      1384\n",
            "   macro avg       0.79      0.79      0.79      1384\n",
            "weighted avg       0.79      0.79      0.79      1384\n",
            "\n"
          ]
        }
      ]
    },
    {
      "cell_type": "code",
      "source": [
        "from sklearn.model_selection import cross_val_score\n",
        "output = cross_val_score(LSVC, testing_data1, testing_data2, cv=10)\n",
        "print(\"SVM_given\",output.mean())"
      ],
      "metadata": {
        "colab": {
          "base_uri": "https://localhost:8080/"
        },
        "id": "1hkX1bonCNhJ",
        "outputId": "16d344b1-256f-4a04-f157-b8736cbac7a5"
      },
      "execution_count": 32,
      "outputs": [
        {
          "output_type": "stream",
          "name": "stdout",
          "text": [
            "SVM_given 0.7348034615785632\n"
          ]
        }
      ]
    },
    {
      "cell_type": "code",
      "source": [
        "KNNC_fit = KNNC.fit(training_data1,training_data2)\n",
        "final_KNNC = KNNC_fit.predict(testing_data1)\n",
        "print('Accuracy_result %s' % accuracy_score(final_KNNC,testing_data2))\n",
        "print(classification_report(testing_data2,final_KNNC))"
      ],
      "metadata": {
        "colab": {
          "base_uri": "https://localhost:8080/"
        },
        "id": "wAnUsZekCR6H",
        "outputId": "657938eb-55ad-4e72-d700-ae927c390be9"
      },
      "execution_count": 33,
      "outputs": [
        {
          "output_type": "stream",
          "name": "stdout",
          "text": [
            "Accuracy_result 0.740606936416185\n",
            "              precision    recall  f1-score   support\n",
            "\n",
            "           0       0.75      0.71      0.73       671\n",
            "           1       0.74      0.77      0.75       713\n",
            "\n",
            "    accuracy                           0.74      1384\n",
            "   macro avg       0.74      0.74      0.74      1384\n",
            "weighted avg       0.74      0.74      0.74      1384\n",
            "\n"
          ]
        }
      ]
    },
    {
      "cell_type": "code",
      "source": [
        "from sklearn.model_selection import cross_val_score\n",
        "output = cross_val_score(KNNC, testing_data1, testing_data2, cv=10)\n",
        "print(\"KNN_given\",output.mean())"
      ],
      "metadata": {
        "colab": {
          "base_uri": "https://localhost:8080/"
        },
        "id": "V66KrS9LCSCX",
        "outputId": "8417060d-abcc-40e2-a14e-25e638f85ac9"
      },
      "execution_count": 34,
      "outputs": [
        {
          "output_type": "stream",
          "name": "stdout",
          "text": [
            "KNN_given 0.6675737670732979\n"
          ]
        }
      ]
    },
    {
      "cell_type": "code",
      "source": [
        "XGBC_fit = XGBC.fit(training_data1,training_data2)\n",
        "final_XGBC = XGBC_fit.predict(testing_data1)\n",
        "output = cross_val_score(XGBC, testing_data1, testing_data2, cv=10)\n",
        "print('Accuracy_result %s' % accuracy_score(final_XGBC,testing_data2))\n",
        "print(classification_report(testing_data2,final_XGBC))\n",
        "print(\"XGB_given\",output.mean())"
      ],
      "metadata": {
        "colab": {
          "base_uri": "https://localhost:8080/"
        },
        "id": "-p1JrUDWCYMn",
        "outputId": "8632f3b7-b35a-4e06-e482-0d8c513e1e85"
      },
      "execution_count": 35,
      "outputs": [
        {
          "output_type": "stream",
          "name": "stdout",
          "text": [
            "Accuracy_result 0.6488439306358381\n",
            "              precision    recall  f1-score   support\n",
            "\n",
            "           0       0.76      0.41      0.53       671\n",
            "           1       0.61      0.88      0.72       713\n",
            "\n",
            "    accuracy                           0.65      1384\n",
            "   macro avg       0.68      0.64      0.62      1384\n",
            "weighted avg       0.68      0.65      0.63      1384\n",
            "\n",
            "XGB_given 0.6198884370764259\n"
          ]
        }
      ]
    },
    {
      "cell_type": "code",
      "source": [
        "output = cross_val_score(DTC, testing_data1, testing_data2, cv=10)\n",
        "print(\"DT_given\",output.mean())"
      ],
      "metadata": {
        "colab": {
          "base_uri": "https://localhost:8080/"
        },
        "id": "V0RorWXPCcdi",
        "outputId": "e9aaa994-2587-4722-8f5b-028004b4d5e2"
      },
      "execution_count": 36,
      "outputs": [
        {
          "output_type": "stream",
          "name": "stdout",
          "text": [
            "DT_given 0.6061151079136691\n"
          ]
        }
      ]
    },
    {
      "cell_type": "code",
      "source": [
        "RF_fit = RFC.fit(training_data1,training_data2)\n",
        "final_RF = RF_fit.predict(testing_data1)\n",
        "output = cross_val_score(RFC, testing_data1, testing_data2, cv=10)\n",
        "print('Acc_result %s' % accuracy_score(final_RF,testing_data2))\n",
        "print(classification_report(testing_data2,final_RF))\n",
        "print(\"RF_given\",output.mean())"
      ],
      "metadata": {
        "colab": {
          "base_uri": "https://localhost:8080/"
        },
        "id": "PDjtuRjyCha9",
        "outputId": "3b8597be-3c73-4366-d244-60b4fd5d7373"
      },
      "execution_count": 37,
      "outputs": [
        {
          "output_type": "stream",
          "name": "stdout",
          "text": [
            "Acc_result 0.7384393063583815\n",
            "              precision    recall  f1-score   support\n",
            "\n",
            "           0       0.77      0.65      0.71       671\n",
            "           1       0.71      0.82      0.76       713\n",
            "\n",
            "    accuracy                           0.74      1384\n",
            "   macro avg       0.74      0.74      0.74      1384\n",
            "weighted avg       0.74      0.74      0.74      1384\n",
            "\n",
            "RF_given 0.684918152434574\n"
          ]
        }
      ]
    },
    {
      "cell_type": "code",
      "source": [
        "Testing_MulNB_fit = MulNB_fit.predict(Testing_tf_idf)\n",
        "print('Accuracy_result %s' % accuracy_score(Testing_MulNB_fit,testing_df['Sentiment']))\n",
        "print(classification_report(Testing_MulNB_fit,testing_df['Sentiment']))\n"
      ],
      "metadata": {
        "colab": {
          "base_uri": "https://localhost:8080/"
        },
        "id": "r2R_bl1-Crli",
        "outputId": "5200b6da-1580-4067-c353-8f7046d11e1c"
      },
      "execution_count": 38,
      "outputs": [
        {
          "output_type": "stream",
          "name": "stdout",
          "text": [
            "Accuracy_result 0.7940691927512356\n",
            "              precision    recall  f1-score   support\n",
            "\n",
            "           0       0.69      0.87      0.77       729\n",
            "           1       0.89      0.74      0.81      1092\n",
            "\n",
            "    accuracy                           0.79      1821\n",
            "   macro avg       0.79      0.81      0.79      1821\n",
            "weighted avg       0.81      0.79      0.80      1821\n",
            "\n"
          ]
        }
      ]
    },
    {
      "cell_type": "code",
      "source": [
        "Testing_LSVC_fit = LSVC_fit.predict(Testing_tf_idf)\n",
        "print('Accuracy_result %s' % accuracy_score(Testing_LSVC_fit,testing_df['Sentiment']))\n",
        "print(classification_report(Testing_LSVC_fit,testing_df['Sentiment']))"
      ],
      "metadata": {
        "colab": {
          "base_uri": "https://localhost:8080/"
        },
        "id": "NGV7ZTKLCyOe",
        "outputId": "a93b23c0-c728-4558-e185-2bc11833de98"
      },
      "execution_count": 39,
      "outputs": [
        {
          "output_type": "stream",
          "name": "stdout",
          "text": [
            "Accuracy_result 0.7869302580999451\n",
            "              precision    recall  f1-score   support\n",
            "\n",
            "           0       0.75      0.81      0.78       838\n",
            "           1       0.83      0.77      0.79       983\n",
            "\n",
            "    accuracy                           0.79      1821\n",
            "   macro avg       0.79      0.79      0.79      1821\n",
            "weighted avg       0.79      0.79      0.79      1821\n",
            "\n"
          ]
        }
      ]
    },
    {
      "cell_type": "markdown",
      "metadata": {
        "id": "EZzwUnrn9uEN"
      },
      "source": [
        "(20 points) The purpose of the question is to practice different machine learning algorithms for text clustering\n",
        "Please downlad the dataset by using the following link.  https://www.kaggle.com/PromptCloudHQ/amazon-reviews-unlocked-mobile-phones\n",
        "(You can also use different text data which you want)\n",
        "\n",
        "Apply the listed clustering methods to the dataset:\n",
        "\n",
        "K means, \n",
        "DBSCAN,\n",
        "Hierarchical clustering. \n",
        "\n",
        "You can refer to of the codes from  the follwing link below. \n",
        "https://www.kaggle.com/karthik3890/text-clustering "
      ]
    },
    {
      "cell_type": "code",
      "execution_count": 43,
      "metadata": {
        "colab": {
          "base_uri": "https://localhost:8080/"
        },
        "id": "vfX-q54a9uEO",
        "outputId": "127fa4e8-c351-4329-d88e-a8dda6970cbc"
      },
      "outputs": [
        {
          "output_type": "stream",
          "name": "stderr",
          "text": [
            "[nltk_data] Downloading package punkt to /root/nltk_data...\n",
            "[nltk_data]   Package punkt is already up-to-date!\n",
            "[nltk_data] Downloading package stopwords to /root/nltk_data...\n",
            "[nltk_data]   Package stopwords is already up-to-date!\n",
            "[nltk_data] Downloading package wordnet to /root/nltk_data...\n",
            "[nltk_data]   Package wordnet is already up-to-date!\n",
            "/usr/local/lib/python3.7/dist-packages/ipykernel_launcher.py:15: FutureWarning: The default value of regex will change from True to False in a future version.\n",
            "  from ipykernel import kernelapp as app\n",
            "/usr/local/lib/python3.7/dist-packages/ipykernel_launcher.py:17: FutureWarning: The default value of regex will change from True to False in a future version.\n"
          ]
        }
      ],
      "source": [
        "import pandas as pds\n",
        "import gensim\n",
        "Dataframe=pds.read_csv(\"/content/Amazon_Unlocked_Mobile.csv\")\n",
        "import nltk\n",
        "nltk.download('punkt')\n",
        "from nltk.corpus import stopwords\n",
        "nltk.download('stopwords')\n",
        "from textblob import Word\n",
        "nltk.download('wordnet')\n",
        "from nltk.stem import PorterStemmer\n",
        "stemmer = PorterStemmer()\n",
        "Dataframe = Dataframe[Dataframe['Reviews'].notnull()]\n",
        "dataframe = Dataframe\n",
        "stop = stopwords.words('english')\n",
        "Dataframe['puncless'] = Dataframe['Reviews'].str.replace('[^\\w\\s].#','')\n",
        "Dataframe['mstopwords'] =Dataframe['puncless'].apply(lambda i: \" \".join(i for i in i.split() if i not in stop))\n",
        "Dataframe['numbers']=Dataframe['mstopwords'].str.replace('[0-9]','')\n",
        "Dataframe['lowest'] =Dataframe['numbers'].apply(lambda i: \" \".join(i.lower() for i in i.split()))\n",
        "\n",
        "Dataframe['stemming']=Dataframe['lowest'].apply(lambda i: \" \".join([stemmer.stem(word) for word in i.split()]))\n",
        "Dataframe['freshdata'] = Dataframe['stemming'].apply(lambda i: \" \".join([Word(word).lemmatize() for word in i.split()]))\n",
        "\n",
        "\n",
        "\n"
      ]
    },
    {
      "cell_type": "code",
      "source": [
        "print(Dataframe['freshdata'].head())"
      ],
      "metadata": {
        "colab": {
          "base_uri": "https://localhost:8080/"
        },
        "id": "MmtOYCamDwYE",
        "outputId": "475938b7-68b4-4d9a-ff94-22c62d97066b"
      },
      "execution_count": 44,
      "outputs": [
        {
          "output_type": "stream",
          "name": "stdout",
          "text": [
            "0    i feel lucki found use (phone u & use hard all...\n",
            "1    nice phone, nice grade pantach revue. veri cle...\n",
            "2                                            veri plea\n",
            "3      it work good goe slow sometim good phone i love\n",
            "4    great phone replac lost phone. the thing volum...\n",
            "Name: freshdata, dtype: object\n"
          ]
        }
      ]
    },
    {
      "cell_type": "code",
      "source": [
        "Dataframe1=(dataframe.sample(n=4000)).reset_index()"
      ],
      "metadata": {
        "id": "Ghi8orxRFocb"
      },
      "execution_count": 45,
      "outputs": []
    },
    {
      "cell_type": "code",
      "source": [
        "from sklearn.feature_extraction.text import TfidfVectorizer\n",
        "tf_idf_vectorizer = TfidfVectorizer()\n",
        "tf_idf_output = tf_idf_vectorizer.fit_transform(Dataframe1['freshdata'].values)\n",
        "print(tf_idf_output.shape)"
      ],
      "metadata": {
        "colab": {
          "base_uri": "https://localhost:8080/"
        },
        "id": "crGtp7b6FtES",
        "outputId": "02710bf9-5fc0-4563-9265-d09a104f047c"
      },
      "execution_count": 46,
      "outputs": [
        {
          "output_type": "stream",
          "name": "stdout",
          "text": [
            "(4000, 6574)\n"
          ]
        }
      ]
    },
    {
      "cell_type": "code",
      "source": [
        "from sklearn.cluster import KMeans\n",
        "Kmean_tf_idf = KMeans(n_clusters = 5,random_state=99)\n",
        "Kmean_tf_idf.fit(tf_idf_output)"
      ],
      "metadata": {
        "colab": {
          "base_uri": "https://localhost:8080/"
        },
        "id": "KJZSGBGCFw3v",
        "outputId": "15af7d92-191c-454a-8bde-b390b8748d30"
      },
      "execution_count": 47,
      "outputs": [
        {
          "output_type": "execute_result",
          "data": {
            "text/plain": [
              "KMeans(n_clusters=5, random_state=99)"
            ]
          },
          "metadata": {},
          "execution_count": 47
        }
      ]
    },
    {
      "cell_type": "code",
      "source": [
        "tf_idf_labelling = Kmean_tf_idf.labels_\n",
        "tf_idf_clust=Kmean_tf_idf.cluster_centers_"
      ],
      "metadata": {
        "id": "NiqpWp_BGaQQ"
      },
      "execution_count": 48,
      "outputs": []
    },
    {
      "cell_type": "code",
      "source": [
        "v = tf_idf_vectorizer.get_feature_names()\n",
        "v[1:5]\n",
        "Dataframe1['tf_idf cluster labelling'] = tf_idf_labelling\n",
        "Dataframe1.head(5)"
      ],
      "metadata": {
        "colab": {
          "base_uri": "https://localhost:8080/",
          "height": 669
        },
        "id": "B1snYdLPGd6a",
        "outputId": "42746535-487b-4b93-8599-5596486dc8bb"
      },
      "execution_count": 49,
      "outputs": [
        {
          "output_type": "stream",
          "name": "stderr",
          "text": [
            "/usr/local/lib/python3.7/dist-packages/sklearn/utils/deprecation.py:87: FutureWarning: Function get_feature_names is deprecated; get_feature_names is deprecated in 1.0 and will be removed in 1.2. Please use get_feature_names_out instead.\n",
            "  warnings.warn(msg, category=FutureWarning)\n"
          ]
        },
        {
          "output_type": "execute_result",
          "data": {
            "text/plain": [
              "    index                                       Product Name Brand Name  \\\n",
              "0  134721  BLU Studio 5.0 C HD - Unlocked Cell Phones - R...        BLU   \n",
              "1  104249  BLU Advance 4.0L Unlocked Smartphone -Global G...        BLU   \n",
              "2  115167  BLU Dash M - 5.0\" Smartphone - Global GSM Unlo...        BLU   \n",
              "3  126005  BLU Life 8 XL Smartphone - Unlocked - US GSM -...        BLU   \n",
              "4  198320  HTC Sensation XE Z715E with Beats Audio Unlock...        NaN   \n",
              "\n",
              "     Price  Rating                                            Reviews  \\\n",
              "0  2000.00     5.0                                   I like the phone   \n",
              "1   149.99     1.0  Battery life sucks! Had it only a week or so a...   \n",
              "2    69.99     5.0                                         nice phone   \n",
              "3   101.91     5.0  One of the best BLU phone that we owned . My D...   \n",
              "4   171.99     1.0  It came locked, without the original box nor t...   \n",
              "\n",
              "   Review Votes                                           puncless  \\\n",
              "0           0.0                                   I like the phone   \n",
              "1           0.0  Battery life sucks! Had it only a week or so a...   \n",
              "2           0.0                                         nice phone   \n",
              "3           0.0  One of the best BLU phone that we owned . My D...   \n",
              "4           0.0  It came locked, without the original box nor t...   \n",
              "\n",
              "                                          mstopwords  \\\n",
              "0                                       I like phone   \n",
              "1  Battery life sucks! Had week I bring chager ev...   \n",
              "2                                         nice phone   \n",
              "3  One best BLU phone owned . My Daughter love it...   \n",
              "4  It came locked, without original box Beats ear...   \n",
              "\n",
              "                                             numbers  \\\n",
              "0                                       I like phone   \n",
              "1  Battery life sucks! Had week I bring chager ev...   \n",
              "2                                         nice phone   \n",
              "3  One best BLU phone owned . My Daughter love it...   \n",
              "4  It came locked, without original box Beats ear...   \n",
              "\n",
              "                                              lowest  \\\n",
              "0                                       i like phone   \n",
              "1  battery life sucks! had week i bring chager ev...   \n",
              "2                                         nice phone   \n",
              "3  one best blu phone owned . my daughter love it...   \n",
              "4  it came locked, without original box beats ear...   \n",
              "\n",
              "                                            stemming  \\\n",
              "0                                       i like phone   \n",
              "1  batteri life sucks! had week i bring chager ev...   \n",
              "2                                         nice phone   \n",
              "3  one best blu phone own . my daughter love it. ...   \n",
              "4  it came locked, without origin box beat earpho...   \n",
              "\n",
              "                                           freshdata  tf_idf cluster labelling  \n",
              "0                                       i like phone                         3  \n",
              "1  batteri life sucks! had week i bring chager ev...                         3  \n",
              "2                                         nice phone                         3  \n",
              "3  one best blu phone own . my daughter love it. ...                         3  \n",
              "4  it came locked, without origin box beat earpho...                         3  "
            ],
            "text/html": [
              "\n",
              "  <div id=\"df-49ca8dcd-c4f8-4bd8-848d-8949b7d69f6e\">\n",
              "    <div class=\"colab-df-container\">\n",
              "      <div>\n",
              "<style scoped>\n",
              "    .dataframe tbody tr th:only-of-type {\n",
              "        vertical-align: middle;\n",
              "    }\n",
              "\n",
              "    .dataframe tbody tr th {\n",
              "        vertical-align: top;\n",
              "    }\n",
              "\n",
              "    .dataframe thead th {\n",
              "        text-align: right;\n",
              "    }\n",
              "</style>\n",
              "<table border=\"1\" class=\"dataframe\">\n",
              "  <thead>\n",
              "    <tr style=\"text-align: right;\">\n",
              "      <th></th>\n",
              "      <th>index</th>\n",
              "      <th>Product Name</th>\n",
              "      <th>Brand Name</th>\n",
              "      <th>Price</th>\n",
              "      <th>Rating</th>\n",
              "      <th>Reviews</th>\n",
              "      <th>Review Votes</th>\n",
              "      <th>puncless</th>\n",
              "      <th>mstopwords</th>\n",
              "      <th>numbers</th>\n",
              "      <th>lowest</th>\n",
              "      <th>stemming</th>\n",
              "      <th>freshdata</th>\n",
              "      <th>tf_idf cluster labelling</th>\n",
              "    </tr>\n",
              "  </thead>\n",
              "  <tbody>\n",
              "    <tr>\n",
              "      <th>0</th>\n",
              "      <td>134721</td>\n",
              "      <td>BLU Studio 5.0 C HD - Unlocked Cell Phones - R...</td>\n",
              "      <td>BLU</td>\n",
              "      <td>2000.00</td>\n",
              "      <td>5.0</td>\n",
              "      <td>I like the phone</td>\n",
              "      <td>0.0</td>\n",
              "      <td>I like the phone</td>\n",
              "      <td>I like phone</td>\n",
              "      <td>I like phone</td>\n",
              "      <td>i like phone</td>\n",
              "      <td>i like phone</td>\n",
              "      <td>i like phone</td>\n",
              "      <td>3</td>\n",
              "    </tr>\n",
              "    <tr>\n",
              "      <th>1</th>\n",
              "      <td>104249</td>\n",
              "      <td>BLU Advance 4.0L Unlocked Smartphone -Global G...</td>\n",
              "      <td>BLU</td>\n",
              "      <td>149.99</td>\n",
              "      <td>1.0</td>\n",
              "      <td>Battery life sucks! Had it only a week or so a...</td>\n",
              "      <td>0.0</td>\n",
              "      <td>Battery life sucks! Had it only a week or so a...</td>\n",
              "      <td>Battery life sucks! Had week I bring chager ev...</td>\n",
              "      <td>Battery life sucks! Had week I bring chager ev...</td>\n",
              "      <td>battery life sucks! had week i bring chager ev...</td>\n",
              "      <td>batteri life sucks! had week i bring chager ev...</td>\n",
              "      <td>batteri life sucks! had week i bring chager ev...</td>\n",
              "      <td>3</td>\n",
              "    </tr>\n",
              "    <tr>\n",
              "      <th>2</th>\n",
              "      <td>115167</td>\n",
              "      <td>BLU Dash M - 5.0\" Smartphone - Global GSM Unlo...</td>\n",
              "      <td>BLU</td>\n",
              "      <td>69.99</td>\n",
              "      <td>5.0</td>\n",
              "      <td>nice phone</td>\n",
              "      <td>0.0</td>\n",
              "      <td>nice phone</td>\n",
              "      <td>nice phone</td>\n",
              "      <td>nice phone</td>\n",
              "      <td>nice phone</td>\n",
              "      <td>nice phone</td>\n",
              "      <td>nice phone</td>\n",
              "      <td>3</td>\n",
              "    </tr>\n",
              "    <tr>\n",
              "      <th>3</th>\n",
              "      <td>126005</td>\n",
              "      <td>BLU Life 8 XL Smartphone - Unlocked - US GSM -...</td>\n",
              "      <td>BLU</td>\n",
              "      <td>101.91</td>\n",
              "      <td>5.0</td>\n",
              "      <td>One of the best BLU phone that we owned . My D...</td>\n",
              "      <td>0.0</td>\n",
              "      <td>One of the best BLU phone that we owned . My D...</td>\n",
              "      <td>One best BLU phone owned . My Daughter love it...</td>\n",
              "      <td>One best BLU phone owned . My Daughter love it...</td>\n",
              "      <td>one best blu phone owned . my daughter love it...</td>\n",
              "      <td>one best blu phone own . my daughter love it. ...</td>\n",
              "      <td>one best blu phone own . my daughter love it. ...</td>\n",
              "      <td>3</td>\n",
              "    </tr>\n",
              "    <tr>\n",
              "      <th>4</th>\n",
              "      <td>198320</td>\n",
              "      <td>HTC Sensation XE Z715E with Beats Audio Unlock...</td>\n",
              "      <td>NaN</td>\n",
              "      <td>171.99</td>\n",
              "      <td>1.0</td>\n",
              "      <td>It came locked, without the original box nor t...</td>\n",
              "      <td>0.0</td>\n",
              "      <td>It came locked, without the original box nor t...</td>\n",
              "      <td>It came locked, without original box Beats ear...</td>\n",
              "      <td>It came locked, without original box Beats ear...</td>\n",
              "      <td>it came locked, without original box beats ear...</td>\n",
              "      <td>it came locked, without origin box beat earpho...</td>\n",
              "      <td>it came locked, without origin box beat earpho...</td>\n",
              "      <td>3</td>\n",
              "    </tr>\n",
              "  </tbody>\n",
              "</table>\n",
              "</div>\n",
              "      <button class=\"colab-df-convert\" onclick=\"convertToInteractive('df-49ca8dcd-c4f8-4bd8-848d-8949b7d69f6e')\"\n",
              "              title=\"Convert this dataframe to an interactive table.\"\n",
              "              style=\"display:none;\">\n",
              "        \n",
              "  <svg xmlns=\"http://www.w3.org/2000/svg\" height=\"24px\"viewBox=\"0 0 24 24\"\n",
              "       width=\"24px\">\n",
              "    <path d=\"M0 0h24v24H0V0z\" fill=\"none\"/>\n",
              "    <path d=\"M18.56 5.44l.94 2.06.94-2.06 2.06-.94-2.06-.94-.94-2.06-.94 2.06-2.06.94zm-11 1L8.5 8.5l.94-2.06 2.06-.94-2.06-.94L8.5 2.5l-.94 2.06-2.06.94zm10 10l.94 2.06.94-2.06 2.06-.94-2.06-.94-.94-2.06-.94 2.06-2.06.94z\"/><path d=\"M17.41 7.96l-1.37-1.37c-.4-.4-.92-.59-1.43-.59-.52 0-1.04.2-1.43.59L10.3 9.45l-7.72 7.72c-.78.78-.78 2.05 0 2.83L4 21.41c.39.39.9.59 1.41.59.51 0 1.02-.2 1.41-.59l7.78-7.78 2.81-2.81c.8-.78.8-2.07 0-2.86zM5.41 20L4 18.59l7.72-7.72 1.47 1.35L5.41 20z\"/>\n",
              "  </svg>\n",
              "      </button>\n",
              "      \n",
              "  <style>\n",
              "    .colab-df-container {\n",
              "      display:flex;\n",
              "      flex-wrap:wrap;\n",
              "      gap: 12px;\n",
              "    }\n",
              "\n",
              "    .colab-df-convert {\n",
              "      background-color: #E8F0FE;\n",
              "      border: none;\n",
              "      border-radius: 50%;\n",
              "      cursor: pointer;\n",
              "      display: none;\n",
              "      fill: #1967D2;\n",
              "      height: 32px;\n",
              "      padding: 0 0 0 0;\n",
              "      width: 32px;\n",
              "    }\n",
              "\n",
              "    .colab-df-convert:hover {\n",
              "      background-color: #E2EBFA;\n",
              "      box-shadow: 0px 1px 2px rgba(60, 64, 67, 0.3), 0px 1px 3px 1px rgba(60, 64, 67, 0.15);\n",
              "      fill: #174EA6;\n",
              "    }\n",
              "\n",
              "    [theme=dark] .colab-df-convert {\n",
              "      background-color: #3B4455;\n",
              "      fill: #D2E3FC;\n",
              "    }\n",
              "\n",
              "    [theme=dark] .colab-df-convert:hover {\n",
              "      background-color: #434B5C;\n",
              "      box-shadow: 0px 1px 3px 1px rgba(0, 0, 0, 0.15);\n",
              "      filter: drop-shadow(0px 1px 2px rgba(0, 0, 0, 0.3));\n",
              "      fill: #FFFFFF;\n",
              "    }\n",
              "  </style>\n",
              "\n",
              "      <script>\n",
              "        const buttonEl =\n",
              "          document.querySelector('#df-49ca8dcd-c4f8-4bd8-848d-8949b7d69f6e button.colab-df-convert');\n",
              "        buttonEl.style.display =\n",
              "          google.colab.kernel.accessAllowed ? 'block' : 'none';\n",
              "\n",
              "        async function convertToInteractive(key) {\n",
              "          const element = document.querySelector('#df-49ca8dcd-c4f8-4bd8-848d-8949b7d69f6e');\n",
              "          const dataTable =\n",
              "            await google.colab.kernel.invokeFunction('convertToInteractive',\n",
              "                                                     [key], {});\n",
              "          if (!dataTable) return;\n",
              "\n",
              "          const docLinkHtml = 'Like what you see? Visit the ' +\n",
              "            '<a target=\"_blank\" href=https://colab.research.google.com/notebooks/data_table.ipynb>data table notebook</a>'\n",
              "            + ' to learn more about interactive tables.';\n",
              "          element.innerHTML = '';\n",
              "          dataTable['output_type'] = 'display_data';\n",
              "          await google.colab.output.renderOutput(dataTable, element);\n",
              "          const docLink = document.createElement('div');\n",
              "          docLink.innerHTML = docLinkHtml;\n",
              "          element.appendChild(docLink);\n",
              "        }\n",
              "      </script>\n",
              "    </div>\n",
              "  </div>\n",
              "  "
            ]
          },
          "metadata": {},
          "execution_count": 49
        }
      ]
    },
    {
      "cell_type": "code",
      "source": [
        "\n",
        "Dataframe1.groupby(['tf_idf cluster labelling'])['freshdata'].count()"
      ],
      "metadata": {
        "colab": {
          "base_uri": "https://localhost:8080/"
        },
        "id": "K1fgVg5QGk9D",
        "outputId": "03b48912-6495-41b2-a5da-c190bbbf4088"
      },
      "execution_count": 50,
      "outputs": [
        {
          "output_type": "execute_result",
          "data": {
            "text/plain": [
              "tf_idf cluster labelling\n",
              "0     121\n",
              "1     246\n",
              "2     200\n",
              "3    3252\n",
              "4     181\n",
              "Name: freshdata, dtype: int64"
            ]
          },
          "metadata": {},
          "execution_count": 50
        }
      ]
    },
    {
      "cell_type": "code",
      "source": [
        "clusters = Kmean_tf_idf.cluster_centers_.argsort()[:, ::-1]\n",
        "for i in range(1,5):\n",
        "    print(\"Cluster No %d:\" % i, end='')\n",
        "    for index in clusters[i, :7]:\n",
        "        print(' %s' % v[index], end='')\n",
        "        print()"
      ],
      "metadata": {
        "colab": {
          "base_uri": "https://localhost:8080/"
        },
        "id": "az13MazvGqtZ",
        "outputId": "e3fc6e33-ee43-4f7a-8de6-b99030266b7e"
      },
      "execution_count": 52,
      "outputs": [
        {
          "output_type": "stream",
          "name": "stdout",
          "text": [
            "Cluster No 1: love\n",
            " ok\n",
            " it\n",
            " phone\n",
            " great\n",
            " daughter\n",
            " my\n",
            "Cluster No 2: great\n",
            " phone\n",
            " work\n",
            " product\n",
            " price\n",
            " it\n",
            " condit\n",
            "Cluster No 3: phone\n",
            " work\n",
            " it\n",
            " good\n",
            " the\n",
            " use\n",
            " like\n",
            "Cluster No 4: good\n",
            " veri\n",
            " phone\n",
            " price\n",
            " thank\n",
            " product\n",
            " it\n"
          ]
        }
      ]
    },
    {
      "cell_type": "code",
      "source": [
        "from sklearn.cluster import DBSCAN\n",
        "import numpy as npy\n",
        "import matplotlib.pyplot as plt\n",
        "import gensim\n",
        "m=0\n",
        "vector_list=[]\n",
        "for n in Dataframe1['freshdata'].values:\n",
        "    vector_list.append(n.split())\n",
        "mdl_words = gensim.models.Word2Vec(vector_list,size=100, workers=4)\n",
        "import numpy as npy\n",
        "vector_values = [];\n",
        "for n in vector_list:\n",
        "    v1 = npy.zeros(100)\n",
        "    c = 0;\n",
        "    for w in n:\n",
        "        try:\n",
        "            v2 = mdl_words.wv[w]\n",
        "            v1 += v2\n",
        "            c += 1\n",
        "        except:\n",
        "            pass\n",
        "    v1 /= c\n",
        "    vector_values.append(v1)\n",
        "vector_values = npy.array(vector_values)\n",
        "vector_values = npy.nan_to_num(vector_values)\n",
        "vector_values.shape"
      ],
      "metadata": {
        "colab": {
          "base_uri": "https://localhost:8080/"
        },
        "id": "ZmubBx8-GxHZ",
        "outputId": "40214aa6-ad71-4c4f-8602-8fcd12d2f048"
      },
      "execution_count": 54,
      "outputs": [
        {
          "output_type": "stream",
          "name": "stderr",
          "text": [
            "/usr/local/lib/python3.7/dist-packages/ipykernel_launcher.py:22: RuntimeWarning: invalid value encountered in true_divide\n"
          ]
        },
        {
          "output_type": "execute_result",
          "data": {
            "text/plain": [
              "(4000, 100)"
            ]
          },
          "metadata": {},
          "execution_count": 54
        }
      ]
    },
    {
      "cell_type": "code",
      "source": [
        "points = 2 * 100\n",
        "def lower_bound(num, reach): \n",
        "    lower, upper = 0, len(num) - 1\n",
        "    while lower <= upper: \n",
        "        count = int(lower + (upper - lower) / 2)\n",
        "        if num[count] >= reach:\n",
        "            upper = count - 1\n",
        "        else:\n",
        "            lower = count + 1\n",
        "    return lower\n",
        "\n",
        "def computing (i, text): \n",
        "    distance_values = []\n",
        "    for data in text:\n",
        "        dist = npy.sum((i - data) **2 ) \n",
        "        if(len(distance_values) == 200 and distance_values[199] > dist): \n",
        "            low = int(lower_bound(distance_values, dist))\n",
        "            if low < 200 and low >= 0 and distance_values[low] > dist:\n",
        "                distance_values[low] = dist\n",
        "        else:\n",
        "            distance_values.append(dist)\n",
        "            distance_values.sort()\n",
        "    \n",
        "    return distance_values[199]"
      ],
      "metadata": {
        "id": "SgJ8SECdG3Fv"
      },
      "execution_count": 57,
      "outputs": []
    },
    {
      "cell_type": "code",
      "source": [
        "neighbours = []\n",
        "for i in vector_values[:500]:\n",
        "    neighbours.append(computing(i, vector_values[:500]) )\n",
        "neighbours.sort()"
      ],
      "metadata": {
        "id": "iGU1biK9G7h-"
      },
      "execution_count": 56,
      "outputs": []
    },
    {
      "cell_type": "code",
      "source": [
        "plt.figure(figsize=(10,3))\n",
        "plt.title(\"Method\")\n",
        "plt.plot([i for i in range(len(neighbours))], neighbours)\n",
        "plt.xlabel(\"all the points\")\n",
        "plt.ylabel(\"Distance of neighbour\")\n",
        "plt.show()"
      ],
      "metadata": {
        "colab": {
          "base_uri": "https://localhost:8080/",
          "height": 241
        },
        "id": "c6ZRgUBlG-PK",
        "outputId": "4136edbe-8d35-49d1-a701-916b5caf66df"
      },
      "execution_count": 58,
      "outputs": [
        {
          "output_type": "display_data",
          "data": {
            "text/plain": [
              "<Figure size 720x216 with 1 Axes>"
            ],
            "image/png": "[encoded data removed]"
          },
          "metadata": {
            "needs_background": "light"
          }
        }
      ]
    },
    {
      "cell_type": "code",
      "source": [
        "d = DBSCAN(eps = 8, min_samples = points, n_jobs=-2)\n",
        "d.fit(vector_values)\n",
        "Dataframe1['WMword design'] = d.labels_\n",
        "Dataframe1.head(4)"
      ],
      "metadata": {
        "colab": {
          "base_uri": "https://localhost:8080/",
          "height": 514
        },
        "id": "8oCRZIkBHCIR",
        "outputId": "d2f63cb1-2cfc-4f37-8952-e7d4889a26c9"
      },
      "execution_count": 59,
      "outputs": [
        {
          "output_type": "execute_result",
          "data": {
            "text/plain": [
              "    index                                       Product Name Brand Name  \\\n",
              "0  134721  BLU Studio 5.0 C HD - Unlocked Cell Phones - R...        BLU   \n",
              "1  104249  BLU Advance 4.0L Unlocked Smartphone -Global G...        BLU   \n",
              "2  115167  BLU Dash M - 5.0\" Smartphone - Global GSM Unlo...        BLU   \n",
              "3  126005  BLU Life 8 XL Smartphone - Unlocked - US GSM -...        BLU   \n",
              "\n",
              "     Price  Rating                                            Reviews  \\\n",
              "0  2000.00     5.0                                   I like the phone   \n",
              "1   149.99     1.0  Battery life sucks! Had it only a week or so a...   \n",
              "2    69.99     5.0                                         nice phone   \n",
              "3   101.91     5.0  One of the best BLU phone that we owned . My D...   \n",
              "\n",
              "   Review Votes                                           puncless  \\\n",
              "0           0.0                                   I like the phone   \n",
              "1           0.0  Battery life sucks! Had it only a week or so a...   \n",
              "2           0.0                                         nice phone   \n",
              "3           0.0  One of the best BLU phone that we owned . My D...   \n",
              "\n",
              "                                          mstopwords  \\\n",
              "0                                       I like phone   \n",
              "1  Battery life sucks! Had week I bring chager ev...   \n",
              "2                                         nice phone   \n",
              "3  One best BLU phone owned . My Daughter love it...   \n",
              "\n",
              "                                             numbers  \\\n",
              "0                                       I like phone   \n",
              "1  Battery life sucks! Had week I bring chager ev...   \n",
              "2                                         nice phone   \n",
              "3  One best BLU phone owned . My Daughter love it...   \n",
              "\n",
              "                                              lowest  \\\n",
              "0                                       i like phone   \n",
              "1  battery life sucks! had week i bring chager ev...   \n",
              "2                                         nice phone   \n",
              "3  one best blu phone owned . my daughter love it...   \n",
              "\n",
              "                                            stemming  \\\n",
              "0                                       i like phone   \n",
              "1  batteri life sucks! had week i bring chager ev...   \n",
              "2                                         nice phone   \n",
              "3  one best blu phone own . my daughter love it. ...   \n",
              "\n",
              "                                           freshdata  \\\n",
              "0                                       i like phone   \n",
              "1  batteri life sucks! had week i bring chager ev...   \n",
              "2                                         nice phone   \n",
              "3  one best blu phone own . my daughter love it. ...   \n",
              "\n",
              "   tf_idf cluster labelling  WMword design  \n",
              "0                         3              0  \n",
              "1                         3              0  \n",
              "2                         3              0  \n",
              "3                         3              0  "
            ],
            "text/html": [
              "\n",
              "  <div id=\"df-a38bbc88-1724-46e7-ae27-cc377a988df7\">\n",
              "    <div class=\"colab-df-container\">\n",
              "      <div>\n",
              "<style scoped>\n",
              "    .dataframe tbody tr th:only-of-type {\n",
              "        vertical-align: middle;\n",
              "    }\n",
              "\n",
              "    .dataframe tbody tr th {\n",
              "        vertical-align: top;\n",
              "    }\n",
              "\n",
              "    .dataframe thead th {\n",
              "        text-align: right;\n",
              "    }\n",
              "</style>\n",
              "<table border=\"1\" class=\"dataframe\">\n",
              "  <thead>\n",
              "    <tr style=\"text-align: right;\">\n",
              "      <th></th>\n",
              "      <th>index</th>\n",
              "      <th>Product Name</th>\n",
              "      <th>Brand Name</th>\n",
              "      <th>Price</th>\n",
              "      <th>Rating</th>\n",
              "      <th>Reviews</th>\n",
              "      <th>Review Votes</th>\n",
              "      <th>puncless</th>\n",
              "      <th>mstopwords</th>\n",
              "      <th>numbers</th>\n",
              "      <th>lowest</th>\n",
              "      <th>stemming</th>\n",
              "      <th>freshdata</th>\n",
              "      <th>tf_idf cluster labelling</th>\n",
              "      <th>WMword design</th>\n",
              "    </tr>\n",
              "  </thead>\n",
              "  <tbody>\n",
              "    <tr>\n",
              "      <th>0</th>\n",
              "      <td>134721</td>\n",
              "      <td>BLU Studio 5.0 C HD - Unlocked Cell Phones - R...</td>\n",
              "      <td>BLU</td>\n",
              "      <td>2000.00</td>\n",
              "      <td>5.0</td>\n",
              "      <td>I like the phone</td>\n",
              "      <td>0.0</td>\n",
              "      <td>I like the phone</td>\n",
              "      <td>I like phone</td>\n",
              "      <td>I like phone</td>\n",
              "      <td>i like phone</td>\n",
              "      <td>i like phone</td>\n",
              "      <td>i like phone</td>\n",
              "      <td>3</td>\n",
              "      <td>0</td>\n",
              "    </tr>\n",
              "    <tr>\n",
              "      <th>1</th>\n",
              "      <td>104249</td>\n",
              "      <td>BLU Advance 4.0L Unlocked Smartphone -Global G...</td>\n",
              "      <td>BLU</td>\n",
              "      <td>149.99</td>\n",
              "      <td>1.0</td>\n",
              "      <td>Battery life sucks! Had it only a week or so a...</td>\n",
              "      <td>0.0</td>\n",
              "      <td>Battery life sucks! Had it only a week or so a...</td>\n",
              "      <td>Battery life sucks! Had week I bring chager ev...</td>\n",
              "      <td>Battery life sucks! Had week I bring chager ev...</td>\n",
              "      <td>battery life sucks! had week i bring chager ev...</td>\n",
              "      <td>batteri life sucks! had week i bring chager ev...</td>\n",
              "      <td>batteri life sucks! had week i bring chager ev...</td>\n",
              "      <td>3</td>\n",
              "      <td>0</td>\n",
              "    </tr>\n",
              "    <tr>\n",
              "      <th>2</th>\n",
              "      <td>115167</td>\n",
              "      <td>BLU Dash M - 5.0\" Smartphone - Global GSM Unlo...</td>\n",
              "      <td>BLU</td>\n",
              "      <td>69.99</td>\n",
              "      <td>5.0</td>\n",
              "      <td>nice phone</td>\n",
              "      <td>0.0</td>\n",
              "      <td>nice phone</td>\n",
              "      <td>nice phone</td>\n",
              "      <td>nice phone</td>\n",
              "      <td>nice phone</td>\n",
              "      <td>nice phone</td>\n",
              "      <td>nice phone</td>\n",
              "      <td>3</td>\n",
              "      <td>0</td>\n",
              "    </tr>\n",
              "    <tr>\n",
              "      <th>3</th>\n",
              "      <td>126005</td>\n",
              "      <td>BLU Life 8 XL Smartphone - Unlocked - US GSM -...</td>\n",
              "      <td>BLU</td>\n",
              "      <td>101.91</td>\n",
              "      <td>5.0</td>\n",
              "      <td>One of the best BLU phone that we owned . My D...</td>\n",
              "      <td>0.0</td>\n",
              "      <td>One of the best BLU phone that we owned . My D...</td>\n",
              "      <td>One best BLU phone owned . My Daughter love it...</td>\n",
              "      <td>One best BLU phone owned . My Daughter love it...</td>\n",
              "      <td>one best blu phone owned . my daughter love it...</td>\n",
              "      <td>one best blu phone own . my daughter love it. ...</td>\n",
              "      <td>one best blu phone own . my daughter love it. ...</td>\n",
              "      <td>3</td>\n",
              "      <td>0</td>\n",
              "    </tr>\n",
              "  </tbody>\n",
              "</table>\n",
              "</div>\n",
              "      <button class=\"colab-df-convert\" onclick=\"convertToInteractive('df-a38bbc88-1724-46e7-ae27-cc377a988df7')\"\n",
              "              title=\"Convert this dataframe to an interactive table.\"\n",
              "              style=\"display:none;\">\n",
              "        \n",
              "  <svg xmlns=\"http://www.w3.org/2000/svg\" height=\"24px\"viewBox=\"0 0 24 24\"\n",
              "       width=\"24px\">\n",
              "    <path d=\"M0 0h24v24H0V0z\" fill=\"none\"/>\n",
              "    <path d=\"M18.56 5.44l.94 2.06.94-2.06 2.06-.94-2.06-.94-.94-2.06-.94 2.06-2.06.94zm-11 1L8.5 8.5l.94-2.06 2.06-.94-2.06-.94L8.5 2.5l-.94 2.06-2.06.94zm10 10l.94 2.06.94-2.06 2.06-.94-2.06-.94-.94-2.06-.94 2.06-2.06.94z\"/><path d=\"M17.41 7.96l-1.37-1.37c-.4-.4-.92-.59-1.43-.59-.52 0-1.04.2-1.43.59L10.3 9.45l-7.72 7.72c-.78.78-.78 2.05 0 2.83L4 21.41c.39.39.9.59 1.41.59.51 0 1.02-.2 1.41-.59l7.78-7.78 2.81-2.81c.8-.78.8-2.07 0-2.86zM5.41 20L4 18.59l7.72-7.72 1.47 1.35L5.41 20z\"/>\n",
              "  </svg>\n",
              "      </button>\n",
              "      \n",
              "  <style>\n",
              "    .colab-df-container {\n",
              "      display:flex;\n",
              "      flex-wrap:wrap;\n",
              "      gap: 12px;\n",
              "    }\n",
              "\n",
              "    .colab-df-convert {\n",
              "      background-color: #E8F0FE;\n",
              "      border: none;\n",
              "      border-radius: 50%;\n",
              "      cursor: pointer;\n",
              "      display: none;\n",
              "      fill: #1967D2;\n",
              "      height: 32px;\n",
              "      padding: 0 0 0 0;\n",
              "      width: 32px;\n",
              "    }\n",
              "\n",
              "    .colab-df-convert:hover {\n",
              "      background-color: #E2EBFA;\n",
              "      box-shadow: 0px 1px 2px rgba(60, 64, 67, 0.3), 0px 1px 3px 1px rgba(60, 64, 67, 0.15);\n",
              "      fill: #174EA6;\n",
              "    }\n",
              "\n",
              "    [theme=dark] .colab-df-convert {\n",
              "      background-color: #3B4455;\n",
              "      fill: #D2E3FC;\n",
              "    }\n",
              "\n",
              "    [theme=dark] .colab-df-convert:hover {\n",
              "      background-color: #434B5C;\n",
              "      box-shadow: 0px 1px 3px 1px rgba(0, 0, 0, 0.15);\n",
              "      filter: drop-shadow(0px 1px 2px rgba(0, 0, 0, 0.3));\n",
              "      fill: #FFFFFF;\n",
              "    }\n",
              "  </style>\n",
              "\n",
              "      <script>\n",
              "        const buttonEl =\n",
              "          document.querySelector('#df-a38bbc88-1724-46e7-ae27-cc377a988df7 button.colab-df-convert');\n",
              "        buttonEl.style.display =\n",
              "          google.colab.kernel.accessAllowed ? 'block' : 'none';\n",
              "\n",
              "        async function convertToInteractive(key) {\n",
              "          const element = document.querySelector('#df-a38bbc88-1724-46e7-ae27-cc377a988df7');\n",
              "          const dataTable =\n",
              "            await google.colab.kernel.invokeFunction('convertToInteractive',\n",
              "                                                     [key], {});\n",
              "          if (!dataTable) return;\n",
              "\n",
              "          const docLinkHtml = 'Like what you see? Visit the ' +\n",
              "            '<a target=\"_blank\" href=https://colab.research.google.com/notebooks/data_table.ipynb>data table notebook</a>'\n",
              "            + ' to learn more about interactive tables.';\n",
              "          element.innerHTML = '';\n",
              "          dataTable['output_type'] = 'display_data';\n",
              "          await google.colab.output.renderOutput(dataTable, element);\n",
              "          const docLink = document.createElement('div');\n",
              "          docLink.innerHTML = docLinkHtml;\n",
              "          element.appendChild(docLink);\n",
              "        }\n",
              "      </script>\n",
              "    </div>\n",
              "  </div>\n",
              "  "
            ]
          },
          "metadata": {},
          "execution_count": 59
        }
      ]
    },
    {
      "cell_type": "code",
      "source": [
        "import scipy\n",
        "from scipy.cluster import hierarchy\n",
        "Dendogram = hierarchy.dendrogram(hierarchy.linkage(vector_values,method='ward'))\n",
        "plt.axhline(y=10)"
      ],
      "metadata": {
        "colab": {
          "base_uri": "https://localhost:8080/",
          "height": 285
        },
        "id": "lHjLIA6dHFLA",
        "outputId": "f171d4ae-0816-42db-8ccc-69e1f739ce4d"
      },
      "execution_count": 61,
      "outputs": [
        {
          "output_type": "execute_result",
          "data": {
            "text/plain": [
              "<matplotlib.lines.Line2D at 0x7f2c42d14750>"
            ]
          },
          "metadata": {},
          "execution_count": 61
        },
        {
          "output_type": "display_data",
          "data": {
            "text/plain": [
              "<Figure size 432x288 with 1 Axes>"
            ],
            "image/png": "[encoded data removed]"
          },
          "metadata": {
            "needs_background": "light"
          }
        }
      ]
    },
    {
      "cell_type": "code",
      "source": [
        "from sklearn.cluster import AgglomerativeClustering\n",
        "\n",
        "analysis = AgglomerativeClustering(n_clusters=7, affinity='euclidean', linkage='ward')  \n",
        "Agg = analysis.fit_predict(vector_values)\n",
        "Dataframe1['WMword cluster'] = analysis.labels_\n",
        "Dataframe1.head(6)\n",
        "Dataframe1.groupby(['WMword cluster'])['freshdata'].count()"
      ],
      "metadata": {
        "colab": {
          "base_uri": "https://localhost:8080/"
        },
        "id": "PhJRDWOIHQ2c",
        "outputId": "68cfd3d0-d8f6-4d35-bf09-5f8d4f8a3865"
      },
      "execution_count": 62,
      "outputs": [
        {
          "output_type": "execute_result",
          "data": {
            "text/plain": [
              "WMword cluster\n",
              "0    1405\n",
              "1    1276\n",
              "2     758\n",
              "3      57\n",
              "4     177\n",
              "5      93\n",
              "6     234\n",
              "Name: freshdata, dtype: int64"
            ]
          },
          "metadata": {},
          "execution_count": 62
        }
      ]
    },
    {
      "cell_type": "code",
      "source": [
        "for m in range(6):\n",
        "    print(\"sentence\", m) #reviews assigned to cluster\n",
        "    print(Dataframe1.iloc[Dataframe1.groupby(['WMword cluster']).groups[m][0]]['freshdata'])\n",
        "    print(Dataframe1.iloc[Dataframe1.groupby(['WMword cluster']).groups[m][1]]['freshdata'])\n"
      ],
      "metadata": {
        "colab": {
          "base_uri": "https://localhost:8080/"
        },
        "id": "beEc2NGbHXPb",
        "outputId": "bb7f4eb7-87cf-4a71-b024-ca4d7a667077"
      },
      "execution_count": 64,
      "outputs": [
        {
          "output_type": "stream",
          "name": "stdout",
          "text": [
            "sentence 0\n",
            "batteri life sucks! had week i bring chager everywher phone. plan get new phone soon i can.\n",
            "one best blu phone own . my daughter love it. big screen, fast interface. the wifi work perfectly, lose signal. take nice pic video.th best price.....i buy anoth one sure.\n",
            "sentence 1\n",
            "it came locked, without origin box beat earphon (cheap plastic earphon instead). in way anoth call scam.\n",
            "wife work corectli\n",
            "sentence 2\n",
            "i like phone\n",
            "nice phone\n",
            "sentence 3\n",
            "cool\n",
            ":)\n",
            "sentence 4\n",
            "easy, easy, easy. good\n",
            "return product. too fragil minim market replac part\n",
            "sentence 5\n",
            "excelente!\n",
            "a+\n"
          ]
        }
      ]
    },
    {
      "cell_type": "markdown",
      "metadata": {
        "id": "Ar_rneL19uEP"
      },
      "source": [
        "In one paragraph, please compare K means, DBSCAN and Hierarchical clustering."
      ]
    },
    {
      "cell_type": "markdown",
      "source": [
        "Clustering generally refers to the grouping of related objects or the differentiation.Hierarchy clustering is the The collection of clusters that are produced by hierarchical clustering are organized in a hierarchy. To create the clusters, it uses a similarity or distance matrix.Data are divided depending on the number of clusters using the K means clustering method.In this custering it has to aasume the number of clusters where as in heirarcy no need of assuming as it uses the distance vector.In a dense based scan, the item density determines how dense the clusters are. In this, the minimum number of points will be used to build the clusters.It also need not to assume the number of clusters randomly.\n"
      ],
      "metadata": {
        "id": "i1CfaJZdjMuT"
      }
    }
  ],
  "metadata": {
    "kernelspec": {
      "display_name": "Python 3 (ipykernel)",
      "language": "python",
      "name": "python3"
    },
    "language_info": {
      "codemirror_mode": {
        "name": "ipython",
        "version": 3
      },
      "file_extension": ".py",
      "mimetype": "text/x-python",
      "name": "python",
      "nbconvert_exporter": "python",
      "pygments_lexer": "ipython3",
      "version": "3.9.12"
    },
    "colab": {
      "provenance": []
    }
  },
  "nbformat": 4,
  "nbformat_minor": 0
}